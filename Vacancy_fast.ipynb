{
 "cells": [
  {
   "cell_type": "code",
   "execution_count": 22,
   "id": "4582b86d",
   "metadata": {},
   "outputs": [],
   "source": [
    "import numpy as np\n",
    "import cv2\n",
    "import matplotlib.pyplot as plt\n",
    "import scipy.io\n",
    "import glob\n",
    "import os\n",
    "from math import sqrt\n",
    "import json"
   ]
  },
  {
   "cell_type": "code",
   "execution_count": 7,
   "id": "273383d7",
   "metadata": {},
   "outputs": [],
   "source": [
    "def get_distance_2_pts(p1,p2):\n",
    "    x1,y1 = p1\n",
    "    x2,y2 = p2\n",
    "    distance = sqrt((y1-y2)**2+(x2-x1)**2)\n",
    "    return distance"
   ]
  },
  {
   "cell_type": "code",
   "execution_count": 8,
   "id": "461ea205",
   "metadata": {},
   "outputs": [],
   "source": [
    "# w is the length of the rectangle\n",
    "def get_4_pts(p1,p2,img):\n",
    "    x_max,y_max,_ = img.shape\n",
    "    x1,y1 = p1\n",
    "    x2,y2 = p2\n",
    "    alpha = sqrt((y1-y2)**2+(x2-x1)**2)\n",
    "    \n",
    "    if alpha > 200 :\n",
    "        w = -125\n",
    "    else:\n",
    "        w = -250\n",
    "    \n",
    "    sin_theta = (y1-y2)/alpha\n",
    "    cos_theta = (x2-x1)/alpha\n",
    "    x4 = w*sin_theta + x2\n",
    "    x3 = w*sin_theta + x1\n",
    "    y4 = w*cos_theta + y2\n",
    "    y3 = w*cos_theta + y1\n",
    "    if (x4 > x_max):\n",
    "        x4 = x_max\n",
    "    if (x3 > x_max):\n",
    "        x3 = x_max\n",
    "    if (y4 > y_max):\n",
    "        y4 = y_max\n",
    "    if (y3 > y_max):\n",
    "        y3 = y_max\n",
    "    if (x4 < 0):\n",
    "        x4 = 0\n",
    "    if (x3 < 0):\n",
    "        x3 = 0\n",
    "    if (y4 < 0):\n",
    "        y4 = 0\n",
    "    if (y3 < 0):\n",
    "        y3 = 0\n",
    "    p3 = [x3,y3]\n",
    "    p4 = [x4,y4]\n",
    "    return p1,p2,p3,p4"
   ]
  },
  {
   "cell_type": "code",
   "execution_count": 40,
   "id": "204f271d",
   "metadata": {},
   "outputs": [],
   "source": [
    "def get_slots(img,mat):\n",
    "    warped_images_with_vacancy = []\n",
    "    for s in mat['slots']:\n",
    "        #get the four points\n",
    "        p1_num = s[0] - 1\n",
    "        p2_num = s[1] - 1\n",
    "        p1 = mat['marks'][p1_num]\n",
    "        p2 = mat['marks'][p2_num]\n",
    "        pts = get_4_pts(p1,p2,img)\n",
    "        _,_,p3,p4 = pts\n",
    "        #get vacancy\n",
    "        vacancy_num = s[2]\n",
    "        #vacancy = 'non-vacant'\n",
    "        #if (vacancy_num == 0):\n",
    "        #    vacancy = 'vacant'\n",
    "        #elif (vacancy_num == 1):\n",
    "        #    vacancy = 'non-vacant'\n",
    "        #elif (vacancy_num == 2):\n",
    "        #    vacancy = 'parking\n",
    "        vacancy = vacancy_num\n",
    "        #get slot only image(s)\n",
    "        pts_src = np.array([p1,p2,p3,p4],np.float32)    \n",
    "        width = get_distance_2_pts(p1,p2)\n",
    "        height = get_distance_2_pts(p4,p2)\n",
    "        pts_dst = np.array([[0.0,0.0],[width, 0.0],[ 0.0,height],[width,height]],np.float32)\n",
    "        m_warp = cv2.getPerspectiveTransform(pts_src, pts_dst)\n",
    "        warp_img = cv2.warpPerspective(img, m_warp, (int(width), int(height)))\n",
    "        warped_images_with_vacancy.append([warp_img,vacancy])\n",
    "    return warped_images_with_vacancy"
   ]
  },
  {
   "cell_type": "code",
   "execution_count": 44,
   "id": "c8c3caa7",
   "metadata": {},
   "outputs": [],
   "source": [
    "iterator = 0\n",
    "num_samples = -1\n",
    "training_dir = 'training/'\n",
    "new_data_set_dir = 'training_vacancy/'\n",
    "vacancy_training_json = {}\n",
    "for file in glob.glob(training_dir + '*.jpg'):\n",
    "    file_name = file[:-4]\n",
    "    img = cv2.imread(file)\n",
    "    mat = scipy.io.loadmat(file_name + '.mat')\n",
    "    warped_images_with_vacancy = get_slots(img,mat)\n",
    "    for image,vacancy in warped_images_with_vacancy:\n",
    "        slot_name = 'training' + str(iterator)\n",
    "        cv2.imwrite(new_data_set_dir+slot_name+'.jpg',image)\n",
    "        vacancy_training_json[slot_name] = str(vacancy)\n",
    "    iterator += 1\n",
    "    #if iterator >= num_samples:\n",
    "    #    break\n",
    "with open(new_data_set_dir + 'vacancy_training.json', 'w') as outfile:\n",
    "    json.dump(vacancy_training_json, outfile)"
   ]
  },
  {
   "cell_type": "code",
   "execution_count": 29,
   "id": "3d08aaa3",
   "metadata": {},
   "outputs": [],
   "source": [
    "data_set = {}"
   ]
  },
  {
   "cell_type": "code",
   "execution_count": 33,
   "id": "0b55df7c",
   "metadata": {},
   "outputs": [],
   "source": [
    "data_set['k1'] = 0"
   ]
  },
  {
   "cell_type": "code",
   "execution_count": 34,
   "id": "9db5ec61",
   "metadata": {},
   "outputs": [],
   "source": []
  },
  {
   "cell_type": "code",
   "execution_count": 37,
   "id": "5e07aae7",
   "metadata": {},
   "outputs": [],
   "source": [
    "with open('data.json', 'w') as outfile:\n",
    "    json.dump(data_set, outfile)\n"
   ]
  },
  {
   "cell_type": "code",
   "execution_count": null,
   "id": "a61f71ff",
   "metadata": {},
   "outputs": [],
   "source": []
  }
 ],
 "metadata": {
  "kernelspec": {
   "display_name": "Python [conda env:torch] *",
   "language": "python",
   "name": "conda-env-torch-py"
  },
  "language_info": {
   "codemirror_mode": {
    "name": "ipython",
    "version": 3
   },
   "file_extension": ".py",
   "mimetype": "text/x-python",
   "name": "python",
   "nbconvert_exporter": "python",
   "pygments_lexer": "ipython3",
   "version": "3.8.8"
  }
 },
 "nbformat": 4,
 "nbformat_minor": 5
}
