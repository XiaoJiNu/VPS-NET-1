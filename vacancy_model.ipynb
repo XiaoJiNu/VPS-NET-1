{
 "cells": [
  {
   "cell_type": "code",
   "execution_count": null,
   "id": "9aa176c3",
   "metadata": {},
   "outputs": [],
   "source": [
    "import numpy as np\n",
    "import cv2\n",
    "import matplotlib.pyplot as plt\n",
    "import scipy.io\n",
    "import glob\n",
    "import os\n",
    "from math import sqrt\n",
    "import json\n",
    "import torch\n",
    "import torch.nn as nn\n",
    "import torchvision\n",
    "from torchvision.transforms import transforms\n",
    "from torch.utils.data import DataLoader\n",
    "from torch.optim import Adam\n",
    "from torch.autograd import Variable\n",
    "import pathlib\n",
    "from PIL import Image"
   ]
  },
  {
   "cell_type": "code",
   "execution_count": null,
   "id": "a033f604",
   "metadata": {},
   "outputs": [],
   "source": [
    "device = torch.device('cuda' if torch.cuda.is_available() else 'cpu')\n",
    "print(device)"
   ]
  },
  {
   "cell_type": "code",
   "execution_count": null,
   "id": "a03a1b97",
   "metadata": {},
   "outputs": [],
   "source": [
    "batch_size = 16\n",
    "lr = 0.001\n",
    "epochs = 50"
   ]
  },
  {
   "cell_type": "code",
   "execution_count": null,
   "id": "ae9daed0",
   "metadata": {},
   "outputs": [],
   "source": [
    "training_dir = 'training_vacancy/'\n",
    "testing_dir = 'testing_vacancy/'\n",
    "train_count=len(glob.glob(training_dir+'/**/*.jpg'))\n",
    "test_count=len(glob.glob(testing_dir+'/**/*.jpg'))\n",
    "print('train : {}, test : {}'.format(train_count,test_count))"
   ]
  },
  {
   "cell_type": "code",
   "execution_count": null,
   "id": "dcab5452",
   "metadata": {},
   "outputs": [],
   "source": [
    "transformer = transforms.Compose([\n",
    "    transforms.RandomHorizontalFlip(p = 0.5),\n",
    "    transforms.ToTensor(),\n",
    "    transforms.Normalize((0.5,0.5,0.5),(0.5,0.5,0.5))\n",
    "])"
   ]
  },
  {
   "cell_type": "code",
   "execution_count": null,
   "id": "6a0c79b1",
   "metadata": {},
   "outputs": [],
   "source": [
    "train_loader = DataLoader(\n",
    "    torchvision.datasets.ImageFolder(training_dir,transform = transformer),\n",
    "    batch_size = 512,\n",
    "    shuffle = True\n",
    ")\n",
    "test_loader=DataLoader(\n",
    "    torchvision.datasets.ImageFolder(testing_dir,transform=transformer),\n",
    "    batch_size=32, shuffle=True\n",
    ")"
   ]
  },
  {
   "cell_type": "code",
   "execution_count": null,
   "id": "2e570bbe",
   "metadata": {},
   "outputs": [],
   "source": [
    "classes = ['vacant','non-vacant','parking']"
   ]
  },
  {
   "cell_type": "code",
   "execution_count": null,
   "id": "bab2a3d5",
   "metadata": {},
   "outputs": [],
   "source": [
    "class VPSNet(nn.Module):\n",
    "    def __init__(self,num_classes = 3):\n",
    "        super(VPSNet,self).__init__()\n",
    "        \n",
    "        self.model = nn.Sequential(\n",
    "            nn.Conv2d(3, 40, kernel_size=(3, 9), stride=(1, 2)),\n",
    "            nn.ReLU(inplace=True),\n",
    "            nn.MaxPool2d(kernel_size=(3, 3), stride=2),\n",
    "            nn.Conv2d(40, 80, kernel_size=(3, 5), padding=(1, 0)),\n",
    "            nn.ReLU(inplace=True),\n",
    "            nn.MaxPool2d(kernel_size=3, stride=2, padding=(1, 0)),\n",
    "            nn.Conv2d(80, 120, kernel_size=3, padding=1),\n",
    "            nn.ReLU(inplace=True),\n",
    "            nn.Conv2d(120, 160, kernel_size=3, padding=1),\n",
    "            nn.ReLU(inplace=True),\n",
    "            nn.MaxPool2d(kernel_size=3, stride=2),\n",
    "            nn.Flatten(),\n",
    "            nn.Dropout(),\n",
    "            nn.Linear(160 * 5 * 5, 512),\n",
    "            nn.ReLU(inplace=True),\n",
    "            nn.Linear(512, num_classes)\n",
    "        )\n",
    "    def forward(self,x):\n",
    "        x = self.model(x)\n",
    "        return x"
   ]
  },
  {
   "cell_type": "code",
   "execution_count": null,
   "id": "f2653d19",
   "metadata": {},
   "outputs": [],
   "source": [
    "model = VPSNet(num_classes=3).to(device)"
   ]
  },
  {
   "cell_type": "code",
   "execution_count": null,
   "id": "f004a46d",
   "metadata": {},
   "outputs": [],
   "source": [
    "optimizer = Adam(model.parameters(),lr = lr,betas=(0.9,0.999),eps = 1e-08,weight_decay=0.0001)\n",
    "loss_fn = nn.CrossEntropyLoss()"
   ]
  },
  {
   "cell_type": "code",
   "execution_count": null,
   "id": "785e2ccb",
   "metadata": {},
   "outputs": [],
   "source": [
    "for epoch in range(epochs):\n",
    "    model.train()\n",
    "    train_accuracy = 0.0\n",
    "    train_loss = 0.0\n",
    "    \n",
    "    for i,(images,labels) in enumerate(train_loader):\n",
    "        \n",
    "        images = Variable(images.cuda())\n",
    "        labels = Variable(labels.cuda())\n",
    "        optimizer.zero_grad()\n",
    "        loss = loss_fn\n",
    "        optimizer.zero_grad()\n",
    "        outputs = model(images)\n",
    "        loss = loss_fn(outputs,labels)\n",
    "        loss.backward()\n",
    "        optimizer.step()\n",
    "        train_loss += loss.cpu().data*images.size(0)\n",
    "        _,prediction = torch.max(outputs.data,1)\n",
    "        train_accuracy += int(torch.sum(prediction == labels.data))\n",
    "    train_accuracy = train_accuracy/train_count\n",
    "    train_loss = train_loss/train_count\n",
    "    \n",
    "    model.eval()\n",
    "    \n",
    "    test_accuracy=0.0\n",
    "    for i, (images,labels) in enumerate(test_loader):\n",
    "        print(images.shape)\n",
    "        images=Variable(images.cuda())\n",
    "        labels=Variable(labels.cuda())  \n",
    "        outputs=model(images)\n",
    "        _,prediction=torch.max(outputs.data,1)\n",
    "        test_accuracy+=int(torch.sum(prediction==labels.data))\n",
    "    \n",
    "    test_accuracy=test_accuracy/test_count\n",
    "    \n",
    "    print('epoch : {} , train loss: {} , train accuracy : {}, test accuracy : {}'.format(epoch,train_loss,train_accuracy,test_accuracy))"
   ]
  },
  {
   "cell_type": "code",
   "execution_count": null,
   "id": "a113d68b",
   "metadata": {},
   "outputs": [],
   "source": [
    "#save or load model\n",
    "#save\n",
    "path = 'model_save/98_test.pth'\n",
    "#path = 'model_save/98_test.pt'\n",
    "#torch.save(model.state_dict(),path)\n",
    "#model.save(path)\n",
    "#load\n",
    "model = VPSNet()\n",
    "model.load_state_dict(torch.load(path))\n",
    "model.cuda()\n",
    "#model = torch.load(path)"
   ]
  },
  {
   "cell_type": "code",
   "execution_count": null,
   "id": "083fecb3",
   "metadata": {},
   "outputs": [],
   "source": [
    "def image_loader(path):\n",
    "    loader = transforms.Compose([transforms.ToTensor(),transforms.Normalize((0.5,0.5,0.5),(0.5,0.5,0.5))])\n",
    "    image = Image.open(path)\n",
    "    image = loader(image).float()\n",
    "    image = Variable(image)\n",
    "    image = image.unsqueeze(0)\n",
    "    return image.cuda()\n",
    "\n",
    "def pred_image(model,img_name):\n",
    "    img = image_loader(img_name)\n",
    "    prediction = model(img)\n",
    "    prediction = torch.argmax(prediction.data).cpu().item()\n",
    "    classification = 'vacant'\n",
    "    if (prediction == 2):\n",
    "        classification = 'vacant'\n",
    "    elif (prediction == 0):\n",
    "        classification = 'non-vacant'\n",
    "    elif (prediction == 1):\n",
    "        classification = 'parking'\n",
    "    return classification"
   ]
  },
  {
   "cell_type": "code",
   "execution_count": null,
   "id": "45735a9c",
   "metadata": {},
   "outputs": [],
   "source": [
    "#visualize output\n",
    "model.eval()\n",
    "sample_id = 177\n",
    "testing_dir = 'testing_vacancy/'\n",
    "test_class = 'parking/'\n",
    "for file in glob.glob(testing_dir+test_class+'/*.jpg'):\n",
    "    classification = pred_image(model,file)\n",
    "    print(classification)"
   ]
  },
  {
   "cell_type": "code",
   "execution_count": null,
   "id": "93af0b38",
   "metadata": {},
   "outputs": [],
   "source": []
  }
 ],
 "metadata": {
  "kernelspec": {
   "display_name": "Python [conda env:torch] *",
   "language": "python",
   "name": "conda-env-torch-py"
  },
  "language_info": {
   "codemirror_mode": {
    "name": "ipython",
    "version": 3
   },
   "file_extension": ".py",
   "mimetype": "text/x-python",
   "name": "python",
   "nbconvert_exporter": "python",
   "pygments_lexer": "ipython3",
   "version": "3.8.8"
  }
 },
 "nbformat": 4,
 "nbformat_minor": 5
}
