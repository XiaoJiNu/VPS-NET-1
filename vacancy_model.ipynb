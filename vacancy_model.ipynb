{
 "cells": [
  {
   "cell_type": "code",
   "execution_count": 30,
   "id": "9aa176c3",
   "metadata": {},
   "outputs": [],
   "source": [
    "import numpy as np\n",
    "import cv2\n",
    "import matplotlib.pyplot as plt\n",
    "import scipy.io\n",
    "import glob\n",
    "import os\n",
    "from math import sqrt\n",
    "import json\n",
    "import torch\n",
    "import torch.nn as nn\n",
    "import torchvision\n",
    "from torchvision.transforms import transforms\n",
    "from torch.utils.data import DataLoader\n",
    "from torch.optim import Adam\n",
    "from torch.autograd import Variable\n",
    "import pathlib"
   ]
  },
  {
   "cell_type": "code",
   "execution_count": 31,
   "id": "a033f604",
   "metadata": {},
   "outputs": [
    {
     "name": "stdout",
     "output_type": "stream",
     "text": [
      "cuda\n"
     ]
    }
   ],
   "source": [
    "device = torch.device('cuda' if torch.cuda.is_available() else 'cpu')\n",
    "print(device)"
   ]
  },
  {
   "cell_type": "code",
   "execution_count": 44,
   "id": "a03a1b97",
   "metadata": {},
   "outputs": [],
   "source": [
    "batch_size = 16\n",
    "lr = 0.001\n",
    "epochs = 10"
   ]
  },
  {
   "cell_type": "code",
   "execution_count": 57,
   "id": "15f6b3d7",
   "metadata": {},
   "outputs": [],
   "source": [
    "training_dir = 'training_vacancy/'\n",
    "train_count=len(glob.glob(training_dir+'/**/*.jpg'))"
   ]
  },
  {
   "cell_type": "code",
   "execution_count": 58,
   "id": "dcab5452",
   "metadata": {},
   "outputs": [],
   "source": [
    "transformer = transforms.Compose([\n",
    "    transforms.ToTensor(),\n",
    "    transforms.Normalize((0.5,0.5,0.5),(0.5,0.5,0.5))\n",
    "])"
   ]
  },
  {
   "cell_type": "code",
   "execution_count": 59,
   "id": "7ae1d4e6",
   "metadata": {},
   "outputs": [],
   "source": [
    "train_loader = DataLoader(\n",
    "    torchvision.datasets.ImageFolder(training_dir,transform = transformer),\n",
    "    batch_size = 128,\n",
    "    shuffle = True\n",
    ")"
   ]
  },
  {
   "cell_type": "code",
   "execution_count": 60,
   "id": "4bcf45f4",
   "metadata": {},
   "outputs": [],
   "source": [
    "classes = ['vacant','non-vacant','parking']"
   ]
  },
  {
   "cell_type": "code",
   "execution_count": 61,
   "id": "0a1389fb",
   "metadata": {},
   "outputs": [],
   "source": [
    "class VPSNet(nn.Module):\n",
    "    def __init__(self,num_classes = 3):\n",
    "        super(VPSNet,self).__init__()\n",
    "        \n",
    "        self.model = nn.Sequential(\n",
    "            nn.Conv2d(3, 40, kernel_size=(3, 9), stride=(1, 2)),\n",
    "            nn.ReLU(inplace=True),\n",
    "            nn.MaxPool2d(kernel_size=(3, 3), stride=2),\n",
    "            nn.Conv2d(40, 80, kernel_size=(3, 5), padding=(1, 0)),\n",
    "            nn.ReLU(inplace=True),\n",
    "            nn.MaxPool2d(kernel_size=3, stride=2, padding=(1, 0)),\n",
    "            nn.Conv2d(80, 120, kernel_size=3, padding=1),\n",
    "            nn.ReLU(inplace=True),\n",
    "            nn.Conv2d(120, 160, kernel_size=3, padding=1),\n",
    "            nn.ReLU(inplace=True),\n",
    "            nn.MaxPool2d(kernel_size=3, stride=2),\n",
    "            nn.Flatten(),\n",
    "            nn.Dropout(),\n",
    "            nn.Linear(160 * 5 * 5, 512),\n",
    "            nn.ReLU(inplace=True),\n",
    "            nn.Linear(512, num_classes)\n",
    "        )\n",
    "    def forward(self,x):\n",
    "        x = self.model(x)\n",
    "        return x"
   ]
  },
  {
   "cell_type": "code",
   "execution_count": 62,
   "id": "e0888851",
   "metadata": {},
   "outputs": [],
   "source": [
    "model = VPSNet(num_classes=3).to(device)"
   ]
  },
  {
   "cell_type": "code",
   "execution_count": 63,
   "id": "afc9040e",
   "metadata": {},
   "outputs": [],
   "source": [
    "optimizer = Adam(model.parameters(),lr = lr,betas=(0.9,0.999),eps = 1e-08,weight_decay=0.0001)\n",
    "loss_fn = nn.CrossEntropyLoss()"
   ]
  },
  {
   "cell_type": "code",
   "execution_count": 64,
   "id": "5e8fd774",
   "metadata": {},
   "outputs": [
    {
     "name": "stdout",
     "output_type": "stream",
     "text": [
      "epoch : 0 , train loss: 0.5035967230796814 , train accuracy : 0.807753164556962\n",
      "epoch : 1 , train loss: 0.2619050443172455 , train accuracy : 0.9063818565400844\n",
      "epoch : 2 , train loss: 0.18580277264118195 , train accuracy : 0.9371044303797469\n",
      "epoch : 3 , train loss: 0.1338103711605072 , train accuracy : 0.9583333333333334\n",
      "epoch : 4 , train loss: 0.12017528712749481 , train accuracy : 0.9621571729957806\n",
      "epoch : 5 , train loss: 0.08319012075662613 , train accuracy : 0.9757383966244726\n",
      "epoch : 6 , train loss: 0.10105359554290771 , train accuracy : 0.9713871308016878\n",
      "epoch : 7 , train loss: 0.08055329322814941 , train accuracy : 0.9753428270042194\n",
      "epoch : 8 , train loss: 0.06636925786733627 , train accuracy : 0.9814082278481012\n",
      "epoch : 9 , train loss: 0.07214481383562088 , train accuracy : 0.9777162447257384\n"
     ]
    }
   ],
   "source": [
    "for epoch in range(epochs):\n",
    "    model.train()\n",
    "    train_accuracy = 0.0\n",
    "    train_loss = 0.0\n",
    "    \n",
    "    for i,(images,labels) in enumerate(train_loader):\n",
    "        images = Variable(images.cuda())\n",
    "        labels = Variable(labels.cuda())\n",
    "        optimizer.zero_grad()\n",
    "        loss = loss_fn\n",
    "        optimizer.zero_grad()\n",
    "        outputs = model(images)\n",
    "        loss = loss_fn(outputs,labels)\n",
    "        loss.backward()\n",
    "        optimizer.step()\n",
    "        train_loss += loss.cpu().data*images.size(0)\n",
    "        _,prediction = torch.max(outputs.data,1)\n",
    "        train_accuracy += int(torch.sum(prediction == labels.data))\n",
    "    train_accuracy = train_accuracy/train_count\n",
    "    train_loss = train_loss/train_count\n",
    "    \n",
    "    print('epoch : {} , train loss: {} , train accuracy : {}'.format(epoch,train_loss,train_accuracy))"
   ]
  },
  {
   "cell_type": "code",
   "execution_count": null,
   "id": "309ca6e9",
   "metadata": {},
   "outputs": [],
   "source": []
  }
 ],
 "metadata": {
  "kernelspec": {
   "display_name": "Python [conda env:torch] *",
   "language": "python",
   "name": "conda-env-torch-py"
  },
  "language_info": {
   "codemirror_mode": {
    "name": "ipython",
    "version": 3
   },
   "file_extension": ".py",
   "mimetype": "text/x-python",
   "name": "python",
   "nbconvert_exporter": "python",
   "pygments_lexer": "ipython3",
   "version": "3.8.8"
  }
 },
 "nbformat": 4,
 "nbformat_minor": 5
}
