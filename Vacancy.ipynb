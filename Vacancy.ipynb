{
 "cells": [
  {
   "cell_type": "code",
   "execution_count": null,
   "id": "9732cb5b",
   "metadata": {},
   "outputs": [],
   "source": [
    "import numpy as np\n",
    "import cv2\n",
    "import matplotlib.pyplot as plt\n",
    "import scipy.io\n",
    "import glob\n",
    "import os"
   ]
  },
  {
   "cell_type": "code",
   "execution_count": null,
   "id": "7d3d2e41",
   "metadata": {},
   "outputs": [],
   "source": [
    "class slot(object):\n",
    "    def __init__(self,p1,p2,vacancy):\n",
    "     self.update(p1,p2,vacancy)\n",
    "    def update(self,p1,p2,vacancy):\n",
    "        self.p1 = p1\n",
    "        self.p2 = p2\n",
    "        self.vacancy = vacancy\n",
    "        \n",
    "class slot_img(object):\n",
    "    def __init__(self,img,mat):\n",
    "         self.update(img,mat)\n",
    "    def update(self,img,mat):\n",
    "        colours = [(255,0,0),(0,255,0),(0,0,255)]\n",
    "        colour_picker = 0\n",
    "        self.img = img\n",
    "        self.img_anot = np.copy(img)\n",
    "        self.slots_num = len(mat['slots'])\n",
    "        self.slots = []\n",
    "        for s in mat['slots']:\n",
    "            p1_num = s[0] - 1\n",
    "            p2_num = s[1] - 1\n",
    "            p1 = mat['marks'][p1_num]\n",
    "            p2 = mat['marks'][p2_num]\n",
    "            vacancy_num = s[2]\n",
    "            vacancy = 'non-vacant'\n",
    "            if (vacancy_num == 0):\n",
    "                vacancy = 'vacant'\n",
    "            elif (vacancy_num == 1):\n",
    "                vacancy = 'non-vacant'\n",
    "            elif (vacancy_num == 2):\n",
    "                vacancy = 'parking'\n",
    "            self.slots.append(slot(p1,p2,vacancy))\n",
    "            colour = colours[colour_picker]\n",
    "            self.img_anot = cv2.circle(self.img_anot, tuple(map(round, p1)), radius =10, color = colour, thickness = -1)\n",
    "            self.img_anot = cv2.circle(self.img_anot, tuple(map(round, p2)), radius =10, color = colour, thickness = -1)\n",
    "            colour_picker += 1\n",
    "            colour_picker %= 3"
   ]
  },
  {
   "cell_type": "code",
   "execution_count": null,
   "id": "b89d9202",
   "metadata": {},
   "outputs": [],
   "source": [
    "slots = []\n",
    "iterator = 0\n",
    "num_samples = 10\n",
    "training_dir = 'training/'\n",
    "for file in glob.glob(training_dir + '*.jpg'):\n",
    "    file_name = file[:-4]\n",
    "    img = cv2.imread(file)\n",
    "    mat = scipy.io.loadmat(file_name + '.mat')\n",
    "    s = slot_img(img,mat)\n",
    "    slots.append(s)\n",
    "    iterator += 1\n",
    "    if iterator >= num_samples:\n",
    "        break"
   ]
  },
  {
   "cell_type": "code",
   "execution_count": null,
   "id": "18f2bfce",
   "metadata": {},
   "outputs": [],
   "source": [
    "for s in slots:\n",
    "    plt.imshow(s.img_anot)\n",
    "    plt.show()\n",
    "    print(s.slots_num)\n",
    "    for slot in s.slots:\n",
    "        print(slot.p1,slot.p2,slot.vacancy)"
   ]
  }
 ],
 "metadata": {
  "kernelspec": {
   "display_name": "Python [conda env:torch] *",
   "language": "python",
   "name": "conda-env-torch-py"
  },
  "language_info": {
   "codemirror_mode": {
    "name": "ipython",
    "version": 3
   },
   "file_extension": ".py",
   "mimetype": "text/x-python",
   "name": "python",
   "nbconvert_exporter": "python",
   "pygments_lexer": "ipython3",
   "version": "3.8.8"
  }
 },
 "nbformat": 4,
 "nbformat_minor": 5
}
